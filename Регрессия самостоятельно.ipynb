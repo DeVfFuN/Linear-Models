{
 "cells": [
  {
   "cell_type": "code",
   "execution_count": 93,
   "id": "cc070420-410e-46d4-8f54-8e9e8f2562d8",
   "metadata": {},
   "outputs": [],
   "source": [
    "import numpy as np\n",
    "import pandas as pd\n",
    "from sklearn.datasets import fetch_california_housing"
   ]
  },
  {
   "cell_type": "code",
   "execution_count": 100,
   "id": "794afa55-d358-4f6d-bc4a-c7bcf6a31b6f",
   "metadata": {},
   "outputs": [],
   "source": [
    "data = fetch_california_housing(as_frame = True) #возвращает объект класса sklearn.utils.Bunch, там 'data' - DataFrame, 'tasget' - Series\n",
    "df = data.frame #собираем всё в таблицу\n",
    "X = data.data\n",
    "y = data.target"
   ]
  },
  {
   "cell_type": "code",
   "execution_count": 103,
   "id": "3827417c-f76c-4465-a04f-3dcaa3b5f71e",
   "metadata": {},
   "outputs": [],
   "source": [
    "class LinReg:\n",
    "    def __init__(self, n_iter=100, learning_rate=0.0001, weights=None, reg=None, coef_l1=0.01, coef_l2=0.01, batch_size=None):\n",
    "        self.n_iter = n_iter\n",
    "        self.learning_rate = learning_rate\n",
    "        self.weights = weights\n",
    "        self.reg = reg\n",
    "        self.coef_l1 = coef_l1\n",
    "        self.coef_l2 = coef_l2\n",
    "        self.batch_size = batch_size\n",
    "\n",
    "    def __str__(self):\n",
    "        params = (self.n_iter, self.learning_rate)\n",
    "        return f'LinReg = {params}'\n",
    "\n",
    "    def Loss(self, residuals):\n",
    "        return (residuals ** 2).mean()\n",
    "\n",
    "    def Grad(self, X_np, residuals, N, w):\n",
    "        base_grad = -2 * X_np.T @ residuals / N\n",
    "        if self.reg == None:\n",
    "            return base_grad\n",
    "        elif self.reg == 'l1':\n",
    "            return base_grad + self.coef_l1 * np.sign(w)\n",
    "        elif self.reg == 'l2':\n",
    "            return base_grad +  self.coef_l2 * 2 * w\n",
    "        else:\n",
    "            raise ValueError(\"Ты втираешь мне какую-то дичь!\")\n",
    "\n",
    "    def fit(self, X, y):\n",
    "        X = X.copy()\n",
    "        X.insert(0, 'bias', 1)\n",
    "        X_np = X.to_numpy()\n",
    "        y_np = y.to_numpy()\n",
    "        \n",
    "        w = np.zeros(X.shape[1]).reshape(-1, 1)\n",
    "        for i in range(self.n_iter):\n",
    "            if isinstance(self.batch_size, int):\n",
    "                indx = np.random.choice(len(X_np), self.batch_size)\n",
    "                X_batch = X_np[indx]\n",
    "                y_batch = y_np[indx]\n",
    "                \n",
    "            elif self.batch_size < 1:\n",
    "                indx = np.random.choice(len(X_np), (int(self.batch_size * X_np)))\n",
    "                X_batch = X_np[indx]\n",
    "                y_batch = y_np[indx]\n",
    "            else:\n",
    "                X_batch = X_np\n",
    "                y_batch = y_np\n",
    "            N = X_batch.shape[0]  \n",
    "            residuals = y_batch.reshape(-1, 1) - X_batch @ w\n",
    "            w -= self.learning_rate * self.Grad(X_batch, residuals, N, w)\n",
    "            if i % 10000 == 0:\n",
    "                print(self.Loss(residuals))\n",
    "        self.weights = w\n",
    "    def predict(self, X):\n",
    "        X = X.copy()\n",
    "        X.insert(0, 'bias', 1)\n",
    "        X_np = X.to_numpy()\n",
    "        return X_np @ self.weights\n",
    "\n",
    "        \n",
    "        "
   ]
  },
  {
   "cell_type": "code",
   "execution_count": 96,
   "id": "029ad86d-12ac-4f43-bda3-8b297574e873",
   "metadata": {
    "collapsed": true,
    "jupyter": {
     "outputs_hidden": true
    }
   },
   "outputs": [
    {
     "name": "stdout",
     "output_type": "stream",
     "text": [
      "         x1        x2\n",
      "0  0.000000  1.872701\n",
      "1  0.204082  4.753572\n",
      "2  0.408163  3.659970\n",
      "3  0.612245  2.993292\n",
      "4  0.816327  0.780093\n",
      "0     9.483868\n",
      "1    15.290756\n",
      "2    13.428781\n",
      "3    12.522216\n",
      "4     7.530644\n",
      "dtype: float64\n"
     ]
    }
   ],
   "source": [
    "import pandas as pd\n",
    "import numpy as np\n",
    "\n",
    "# Фиксируем сид для воспроизводимости\n",
    "np.random.seed(42)\n",
    "\n",
    "# Создаём 50 точек\n",
    "N = 50\n",
    "X1 = np.linspace(0, 10, N)\n",
    "X2 = np.random.uniform(0, 5, N)\n",
    "\n",
    "# Целевая зависимость: y = 3*X1 + 2*X2 + 5 + шум\n",
    "noise = np.random.normal(0, 1, N)\n",
    "y = 3 * X1 + 2 * X2 + 5 + noise\n",
    "\n",
    "# Упаковываем в DataFrame\n",
    "X = pd.DataFrame({'x1': X1, 'x2': X2})\n",
    "y = pd.Series(y)\n",
    "\n",
    "print(X.head())\n",
    "print(y.head())"
   ]
  },
  {
   "cell_type": "code",
   "execution_count": 104,
   "id": "65b6dd9f-c159-4ad3-bc77-e9c1c68539eb",
   "metadata": {
    "scrolled": true
   },
   "outputs": [
    {
     "name": "stdout",
     "output_type": "stream",
     "text": [
      "5.610483198987253\n"
     ]
    },
    {
     "name": "stderr",
     "output_type": "stream",
     "text": [
      "C:\\Users\\vital\\AppData\\Local\\Temp\\ipykernel_16300\\2845555123.py:26: RuntimeWarning: invalid value encountered in subtract\n",
      "  w -= self.learning_rate * self.Grad(X_np, residuals, N)\n"
     ]
    },
    {
     "name": "stdout",
     "output_type": "stream",
     "text": [
      "nan\n",
      "nan\n",
      "nan\n",
      "nan\n",
      "nan\n",
      "nan\n",
      "nan\n",
      "nan\n",
      "nan\n"
     ]
    },
    {
     "ename": "KeyboardInterrupt",
     "evalue": "",
     "output_type": "error",
     "traceback": [
      "\u001b[31m---------------------------------------------------------------------------\u001b[39m",
      "\u001b[31mKeyboardInterrupt\u001b[39m                         Traceback (most recent call last)",
      "\u001b[36mCell\u001b[39m\u001b[36m \u001b[39m\u001b[32mIn[104]\u001b[39m\u001b[32m, line 2\u001b[39m\n\u001b[32m      1\u001b[39m model = LinReg(n_iter=\u001b[32m100000\u001b[39m, learning_rate=\u001b[32m0.00001\u001b[39m)\n\u001b[32m----> \u001b[39m\u001b[32m2\u001b[39m \u001b[43mmodel\u001b[49m\u001b[43m.\u001b[49m\u001b[43mfit\u001b[49m\u001b[43m(\u001b[49m\u001b[43mX\u001b[49m\u001b[43m,\u001b[49m\u001b[43m \u001b[49m\u001b[43my\u001b[49m\u001b[43m)\u001b[49m\n\u001b[32m      4\u001b[39m \u001b[38;5;28mprint\u001b[39m(\u001b[33m\"\u001b[39m\u001b[38;5;130;01m\\n\u001b[39;00m\u001b[33mПолученные веса:\u001b[39m\u001b[33m\"\u001b[39m)\n\u001b[32m      5\u001b[39m \u001b[38;5;28mprint\u001b[39m(model.weights.ravel())  \u001b[38;5;66;03m# должны быть примерно [bias≈5, w1≈3, w2≈2]\u001b[39;00m\n",
      "\u001b[36mCell\u001b[39m\u001b[36m \u001b[39m\u001b[32mIn[103]\u001b[39m\u001b[32m, line 27\u001b[39m, in \u001b[36mLinReg.fit\u001b[39m\u001b[34m(self, X, y)\u001b[39m\n\u001b[32m     25\u001b[39m     residuals = y_np.reshape(-\u001b[32m1\u001b[39m, \u001b[32m1\u001b[39m) - X_np @ w\n\u001b[32m     26\u001b[39m     w -= \u001b[38;5;28mself\u001b[39m.learning_rate * \u001b[38;5;28mself\u001b[39m.Grad(X_np, residuals, N)\n\u001b[32m---> \u001b[39m\u001b[32m27\u001b[39m     \u001b[38;5;28;01mif\u001b[39;00m i % \u001b[32m10000\u001b[39m == \u001b[32m0\u001b[39m:\n\u001b[32m     28\u001b[39m         \u001b[38;5;28mprint\u001b[39m(\u001b[38;5;28mself\u001b[39m.Loss(residuals))\n\u001b[32m     29\u001b[39m \u001b[38;5;28mself\u001b[39m.weights = w\n",
      "\u001b[31mKeyboardInterrupt\u001b[39m: "
     ]
    }
   ],
   "source": [
    "model = LinReg(n_iter=100000, learning_rate=0.00001)\n",
    "model.fit(X, y)\n",
    "\n",
    "print(\"\\nПолученные веса:\")\n",
    "print(model.weights.ravel())  # должны быть примерно [bias≈5, w1≈3, w2≈2]\n",
    "\n",
    "# Пробуем предсказать на тех же данных\n",
    "y_pred = model.predict(X)\n",
    "\n",
    "# Считаем MSE вручную\n",
    "mse = ((y_pred.ravel() - y)**2).mean()\n",
    "print(f\"MSE на тренировке: {mse:.4f}\")\n"
   ]
  },
  {
   "cell_type": "code",
   "execution_count": 44,
   "id": "87b1fbbf-a91d-4dfd-b937-d99e7a50d51d",
   "metadata": {
    "scrolled": true
   },
   "outputs": [
    {
     "name": "stdout",
     "output_type": "stream",
     "text": [
      "(20640, 1)\n",
      "[[-5.35875390e+03]\n",
      " [-3.54936536e+04]\n",
      " [-7.30200245e+03]\n",
      " [-1.48039268e+03]\n",
      " [-3.24818157e+06]\n",
      " [-5.17421088e+03]\n",
      " [-4.89666514e+04]\n",
      " [ 1.64971061e+05]]\n"
     ]
    }
   ],
   "source": [
    "X_np = X.to_numpy()\n",
    "N = X_np.shape[0]\n",
    "y_np = y.to_numpy()\n",
    "residuals = y_np.reshape(-1, 1) - X_np @ w\n",
    "X_np.shape\n",
    "grad = X_np.T @ residuals\n",
    "\n",
    "print(residuals.shape)\n",
    "\n",
    "print(grad / N)\n"
   ]
  },
  {
   "cell_type": "code",
   "execution_count": 22,
   "id": "44b45a16-4105-4fb8-b0d2-74643426664d",
   "metadata": {},
   "outputs": [
    {
     "name": "stdout",
     "output_type": "stream",
     "text": [
      "[[1.]\n",
      " [1.]\n",
      " [1.]\n",
      " [1.]\n",
      " [1.]\n",
      " [1.]\n",
      " [1.]\n",
      " [1.]]\n"
     ]
    }
   ],
   "source": [
    "w = np.ones(X.shape[1]).reshape(-1, 1\n",
    "print(w)"
   ]
  },
  {
   "cell_type": "code",
   "execution_count": 8,
   "id": "054f829b-cc90-426c-8138-0b38ad261389",
   "metadata": {},
   "outputs": [
    {
     "data": {
      "text/plain": [
       "8"
      ]
     },
     "execution_count": 8,
     "metadata": {},
     "output_type": "execute_result"
    }
   ],
   "source": [
    "X.shape[1]"
   ]
  },
  {
   "cell_type": "code",
   "execution_count": null,
   "id": "66e17ba3-5e5a-48f0-b181-8d65c75beb6e",
   "metadata": {},
   "outputs": [],
   "source": []
  }
 ],
 "metadata": {
  "kernelspec": {
   "display_name": "Python 3 (ipykernel)",
   "language": "python",
   "name": "python3"
  },
  "language_info": {
   "codemirror_mode": {
    "name": "ipython",
    "version": 3
   },
   "file_extension": ".py",
   "mimetype": "text/x-python",
   "name": "python",
   "nbconvert_exporter": "python",
   "pygments_lexer": "ipython3",
   "version": "3.12.7"
  }
 },
 "nbformat": 4,
 "nbformat_minor": 5
}
